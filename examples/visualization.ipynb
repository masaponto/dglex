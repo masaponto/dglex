{
 "cells": [
  {
   "cell_type": "code",
   "execution_count": null,
   "metadata": {},
   "outputs": [],
   "source": [
    "!pip install torch==2.1.2 --index-url https://download.pytorch.org/whl/cpu\n",
    "!pip install dgl -f https://data.dgl.ai/wheels/torch-2.1/repo.html\n",
    "!pip install git+https://github.com/masaponto/dglex.git"
   ]
  },
  {
   "cell_type": "code",
   "execution_count": null,
   "metadata": {},
   "outputs": [],
   "source": [
    "import dgl\n",
    "import torch\n",
    "import numpy as np\n",
    "from dglex.visualisation import plot_graph, plot_subgraph_with_neighbors"
   ]
  },
  {
   "cell_type": "markdown",
   "metadata": {},
   "source": [
    "## For homogeneous Graph\n",
    "\n",
    "Here we define a homogeneous graph using dgl like below:"
   ]
  },
  {
   "cell_type": "code",
   "execution_count": null,
   "metadata": {},
   "outputs": [],
   "source": [
    "src = np.array([0, 1, 1, 3, 2, 5, 3, 4, 5, 1])\n",
    "dst = np.array([1, 2, 3, 4, 4, 1, 2, 5, 0, 0])\n",
    "homo_graph = dgl.graph((src, dst))\n",
    "edge_weight = torch.Tensor([0.1, 0.2, 0.3, 0.4, 0.5, 0.6, 0.7, 0.8, 0.9, 1.0])\n",
    "homo_graph.edata[\"weight\"] = edge_weight"
   ]
  },
  {
   "cell_type": "markdown",
   "metadata": {},
   "source": [
    "A simple way to plot a homogeneous garph is to use the 'plot_garph' function."
   ]
  },
  {
   "cell_type": "code",
   "execution_count": null,
   "metadata": {},
   "outputs": [],
   "source": [
    "plot_graph(homo_graph, title=\"homogeneous graph\")"
   ]
  },
  {
   "cell_type": "markdown",
   "metadata": {},
   "source": [
    "If you want to plot a graph with edge weights, you can use the following code. "
   ]
  },
  {
   "cell_type": "code",
   "execution_count": null,
   "metadata": {},
   "outputs": [],
   "source": [
    "plot_graph(\n",
    "    homo_graph, title=\"homogeneous_graph with edge-weights\", edge_weight_name=\"weight\"\n",
    ")"
   ]
  },
  {
   "cell_type": "markdown",
   "metadata": {},
   "source": [
    "In addition, you can change your custom-defined node labels. The node labels must be a dictionary with the node ID as the key and the node label as the value."
   ]
  },
  {
   "cell_type": "code",
   "execution_count": null,
   "metadata": {},
   "outputs": [],
   "source": [
    "node_labels = {\n",
    "    0: \"toh-chan\",\n",
    "    1: \"ichiro\",\n",
    "    2: \"jiro\",\n",
    "    3: \"saburo\",\n",
    "    4: \"shiro\",\n",
    "    5: \"goro\",\n",
    "}\n",
    "plot_graph(\n",
    "    homo_graph,\n",
    "    title=\"homogeneous graph with edge-weights and custom defined node labels\",\n",
    "    edge_weight_name=\"weight\",\n",
    "    node_labels=node_labels,\n",
    ")"
   ]
  },
  {
   "cell_type": "markdown",
   "metadata": {},
   "source": [
    "# For Hetegeneous Graph\n",
    "If a graph has multiple node types and edge types, it is called a heterogeneous graph.\n",
    "The plot_graph function supports plotting heterogeneous graphs, and its usage is the same as for homogeneous graphs."
   ]
  },
  {
   "cell_type": "code",
   "execution_count": null,
   "metadata": {},
   "outputs": [],
   "source": [
    "follow_src = np.array([6, 3, 7, 4, 6, 9, 2, 6, 7, 4])\n",
    "follow_dst = np.array([3, 7, 7, 2, 5, 4, 1, 7, 5, 1])\n",
    "click_src = np.array([4, 0, 9, 5, 8, 0, 9, 2, 6, 3])\n",
    "click_dst = np.array([8, 2, 4, 2, 6, 4, 8, 6, 1, 3])\n",
    "dislike_src = np.array([8, 1, 9, 8, 9, 4, 1, 3, 6, 7])\n",
    "dislike_dst = np.array([2, 0, 3, 1, 7, 3, 1, 5, 5, 9])\n",
    "\n",
    "hetero_graph = dgl.heterograph(\n",
    "    {\n",
    "        (\"user\", \"follow\", \"user\"): (follow_src, follow_dst),\n",
    "        (\"user\", \"followed-by\", \"user\"): (follow_dst, follow_src),\n",
    "        (\"user\", \"click\", \"item\"): (click_src, click_dst),\n",
    "        (\"item\", \"clicked-by\", \"user\"): (click_dst, click_src),\n",
    "        (\"user\", \"dislike\", \"item\"): (dislike_src, dislike_dst),\n",
    "        (\"item\", \"disliked-by\", \"user\"): (dislike_dst, dislike_src),\n",
    "    }\n",
    ")\n",
    "\n",
    "reverse_etypes = {\n",
    "    \"click\": \"clicked-by\",\n",
    "    \"dislike\": \"disliked-by\",\n",
    "    \"follow\": \"followed-by\",\n",
    "    \"followed-by\": \"follow\",\n",
    "    \"clicked-by\": \"click\",\n",
    "    \"disliked-by\": \"dislike\",\n",
    "}\n",
    "\n",
    "edge_weight = {\n",
    "    (\"user\", \"follow\", \"user\"): torch.Tensor(\n",
    "        [0.1, 0.2, 0.3, 0.4, 0.5, 0.6, 0.7, 0.8, 0.9, 1.0]\n",
    "    ),\n",
    "    (\"user\", \"followed-by\", \"user\"): torch.Tensor(\n",
    "        [0.1, 0.2, 0.3, 0.4, 0.5, 0.6, 0.7, 0.8, 0.9, 1.0]\n",
    "    ),\n",
    "    (\"user\", \"click\", \"item\"): torch.Tensor(\n",
    "        [0.1, 0.2, 0.3, 0.4, 0.5, 0.6, 0.7, 0.8, 0.9, 1.0]\n",
    "    ),\n",
    "    (\"item\", \"clicked-by\", \"user\"): torch.Tensor(\n",
    "        [0.1, 0.2, 0.3, 0.4, 0.5, 0.6, 0.7, 0.8, 0.9, 1.0]\n",
    "    ),\n",
    "    (\"user\", \"dislike\", \"item\"): torch.Tensor(\n",
    "        [0.1, 0.2, 0.3, 0.4, 0.5, 0.6, 0.7, 0.8, 0.9, 1.0]\n",
    "    ),\n",
    "    (\"item\", \"disliked-by\", \"user\"): torch.Tensor(\n",
    "        [0.1, 0.2, 0.3, 0.4, 0.5, 0.6, 0.7, 0.8, 0.9, 1.0]\n",
    "    ),\n",
    "}\n",
    "\n",
    "hetero_graph.edata[\"weight\"] = edge_weight"
   ]
  },
  {
   "cell_type": "markdown",
   "metadata": {},
   "source": [
    "Here is an example of how to plot a heterogeneous graph. Different node types and edge types are represented by different colors."
   ]
  },
  {
   "cell_type": "code",
   "execution_count": null,
   "metadata": {},
   "outputs": [],
   "source": [
    "plot_graph(hetero_graph, title=\"heterogeneous graph\", figsize=(8, 6))"
   ]
  },
  {
   "cell_type": "markdown",
   "metadata": {},
   "source": [
    "If there are edges with reverse edge relationships, you can set reverse_etypes as follows to plot them in the same color."
   ]
  },
  {
   "cell_type": "code",
   "execution_count": null,
   "metadata": {},
   "outputs": [],
   "source": [
    "plot_graph(\n",
    "    hetero_graph,\n",
    "    title=\"heterogeneous graph\",\n",
    "    reverse_etypes=reverse_etypes,\n",
    "    figsize=(8, 6),\n",
    ")"
   ]
  },
  {
   "cell_type": "markdown",
   "metadata": {},
   "source": [
    "An example of Edge weights and node labels for heterogeneous graph."
   ]
  },
  {
   "cell_type": "code",
   "execution_count": null,
   "metadata": {},
   "outputs": [],
   "source": [
    "node_labels = {\n",
    "    \"item\": {i: f\"movie{i}\" for i in range(10)},\n",
    "    \"user\": {i: f\"user{i}\" for i in range(10)},\n",
    "}\n",
    "\n",
    "plot_graph(\n",
    "    hetero_graph,\n",
    "    title=\"heterogeneous graph\",\n",
    "    reverse_etypes=reverse_etypes,\n",
    "    figsize=(8, 6),\n",
    "    edge_weight_name=\"weight\",\n",
    "    node_labels=node_labels,\n",
    ")"
   ]
  },
  {
   "cell_type": "markdown",
   "metadata": {},
   "source": [
    "# For Subgraph \n",
    "If your graph is too large, you can plot a subgraph by specifying the node IDs you want to plot.  "
   ]
  },
  {
   "cell_type": "markdown",
   "metadata": {},
   "source": [
    "When the target node IDs are specified, the subgraph will only contain the target nodes and their neighbors based on the number of hops. Note that now only support the subgraph contains in-comming edge of the target nodes."
   ]
  },
  {
   "cell_type": "code",
   "execution_count": null,
   "metadata": {},
   "outputs": [],
   "source": [
    "plot_subgraph_with_neighbors(\n",
    "    homo_graph,\n",
    "    target_nodes=[0],\n",
    "    n_hop=2,\n",
    "    edge_weight_name=\"weight\",\n",
    ")"
   ]
  },
  {
   "cell_type": "markdown",
   "metadata": {},
   "source": [
    "A fanouts parameter is a list of integers, which specifies the number of edge for each hop. The length of fanouts should be equal to the number of hops."
   ]
  },
  {
   "cell_type": "code",
   "execution_count": null,
   "metadata": {},
   "outputs": [],
   "source": [
    "plot_subgraph_with_neighbors(\n",
    "    homo_graph,\n",
    "    target_nodes=[2],\n",
    "    n_hop=2,\n",
    "    edge_weight_name=\"weight\",\n",
    "    fanouts=[2, 2],\n",
    ")"
   ]
  },
  {
   "cell_type": "markdown",
   "metadata": {},
   "source": [
    "For heterogeneous graphs, the target_nodes should be a dictionary with the node type as the key and the list of node IDs as the value. "
   ]
  },
  {
   "cell_type": "code",
   "execution_count": null,
   "metadata": {},
   "outputs": [],
   "source": [
    "plot_subgraph_with_neighbors(\n",
    "    hetero_graph, target_nodes={\"user\": [0]}, n_hop=2, fanouts=[2, 2], reverse_etypes=reverse_etypes, edge_weight_name=\"weight\"\n",
    ")"
   ]
  }
 ],
 "metadata": {
  "kernelspec": {
   "display_name": ".venv",
   "language": "python",
   "name": "python3"
  },
  "language_info": {
   "codemirror_mode": {
    "name": "ipython",
    "version": 3
   },
   "file_extension": ".py",
   "mimetype": "text/x-python",
   "name": "python",
   "nbconvert_exporter": "python",
   "pygments_lexer": "ipython3",
   "version": "3.9.21"
  }
 },
 "nbformat": 4,
 "nbformat_minor": 2
}
